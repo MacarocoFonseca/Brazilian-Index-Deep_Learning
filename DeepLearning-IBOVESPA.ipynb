{
 "cells": [
  {
   "cell_type": "code",
   "execution_count": 1,
   "metadata": {
    "scrolled": true
   },
   "outputs": [
    {
     "name": "stderr",
     "output_type": "stream",
     "text": [
      "Using TensorFlow backend.\n"
     ]
    }
   ],
   "source": [
    "# Data Preprocessing\n",
    "import numpy as np\n",
    "import pandas as pd\n",
    "import keras\n",
    "from keras import layers\n",
    "from keras.models import Sequential\n",
    "from keras.layers import Dense\n",
    "from scipy.stats.mstats import winsorize\n",
    "from sklearn.compose import ColumnTransformer\n",
    "from sklearn.preprocessing import LabelEncoder, OneHotEncoder\n",
    "from sklearn.compose import make_column_transformer\n",
    "import matplotlib.pyplot as plt\n",
    "\n",
    "# Read the input file\n",
    "dataset = pd.read_csv('BovespaDeepLearning.csv', sep=';')\n",
    "dataset = dataset[['TICKER', 'Data', 'DATA_REGISTRO',\n",
    "       'SETOR', 'CRESC_LL_12M','CRESC_RL_12M', 'DY_12M', 'ROIC', 'ROA', 'ROE', 'Margem_Operacional',\n",
    "       'Margem_Liquida', 'Margem_Bruta', 'PSR', 'PVPA', 'IPL', 'PEG', 'LPA', 'FREEFLOAT', 'PL', 'CE', 'LG',\n",
    "       'CCL', 'LC', 'LI', 'LS', 'G', 'ICP', 'AT', 'MARKET_VALUE', 'AC', 'PC',\n",
    "       'MARKET_VALUE_AT', 'RLP_AT', 'ELP_AT', 'IMOBILIZADO_AT',\n",
    "       'CONTAS_A_RECEBER_CP_AT', 'LOP_GER_AT', 'LUCRO_PREJ_ACUM_AT', 'DIVIDA_BRUTA_AT',\n",
    "       'DIVIDA_LIQUIDA_AT', 'DESPESAS_RECEITAS_OPERACIONAIS_AT', 'CCL_AT', 'Rent_1a']]\n",
    "\n",
    "#Remove lines with nulls for the main indexes\n",
    "dataset = dataset[dataset['IPL'].notnull()]\n",
    "dataset = dataset[dataset['PVPA'].notnull()]\n",
    "dataset = dataset[dataset['AT'].notnull()]\n",
    "dataset = dataset[dataset['SETOR'].notnull()]\n",
    "dataset = dataset[dataset['LUCRO_PREJ_ACUM_AT'].notnull()]\n",
    "dataset['Ticker_ID'] = LabelEncoder().fit_transform(dataset['TICKER'])"
   ]
  },
  {
   "cell_type": "code",
   "execution_count": 2,
   "metadata": {
    "scrolled": true
   },
   "outputs": [],
   "source": [
    "#For the case the mean of the ticker is equal to zero\n",
    "#We will fill the null values equals to the mean of the column\n",
    "dataset = dataset.fillna(dataset.mean())\n",
    "#dataset.info()"
   ]
  },
  {
   "cell_type": "code",
   "execution_count": 3,
   "metadata": {
    "scrolled": true
   },
   "outputs": [],
   "source": [
    "numerical=dataset.select_dtypes(include=[np.number]).columns.tolist()\n",
    "#dataset[numerical].hist(bins=20, figsize=(20, 20))\n",
    "#plt.title('Histograms')"
   ]
  },
  {
   "cell_type": "code",
   "execution_count": 4,
   "metadata": {},
   "outputs": [],
   "source": [
    "### CLEANING DATA\n",
    "\n",
    "# Winsorization approach to handle extreme values in the limit\n",
    "a = 0\n",
    "for i in numerical:\n",
    "    #Remove from the winsorization the y variables and histograms that seems ok\n",
    "    if numerical[a] not in ['Rent_1a','FREEFLOAT','CE'] : \n",
    "        Win = winsorize( dataset[numerical[a]],limits = [0.01,0.01])\n",
    "        dataset[numerical[a]] = Win\n",
    "    a = a + 1\n",
    "    \n",
    "dataset['Ano'] = dataset['Data'].astype(str).str[:4]\n",
    "dataset['Mes'] = dataset['Data'].astype(str).str[6:7]\n",
    "dataset = dataset[dataset['Mes'] == '6']"
   ]
  },
  {
   "cell_type": "code",
   "execution_count": 5,
   "metadata": {},
   "outputs": [
    {
     "data": {
      "text/plain": [
       "898"
      ]
     },
     "execution_count": 5,
     "metadata": {},
     "output_type": "execute_result"
    }
   ],
   "source": [
    "a = dataset[dataset['Ano'] !='2019']['Rent_1a']\n",
    "a[a <= 4.45].count()"
   ]
  },
  {
   "cell_type": "code",
   "execution_count": 6,
   "metadata": {},
   "outputs": [
    {
     "data": {
      "text/plain": [
       "898"
      ]
     },
     "execution_count": 6,
     "metadata": {},
     "output_type": "execute_result"
    }
   ],
   "source": [
    "a[a > 4.45].count()"
   ]
  },
  {
   "cell_type": "code",
   "execution_count": 7,
   "metadata": {
    "scrolled": true
   },
   "outputs": [],
   "source": [
    "#dataset[numerical].hist(bins=20, figsize=(20, 20))\n",
    "#plt.title('Histograms')"
   ]
  },
  {
   "cell_type": "code",
   "execution_count": 8,
   "metadata": {},
   "outputs": [],
   "source": [
    "dataset['Rentability_1a'] = dataset['Rent_1a']\n",
    "\n",
    "# Set target rentability %\n",
    "buy = 4.45\n",
    "\n",
    "def f(row):\n",
    "    if row['Rent_1a'] > buy:\n",
    "        val = 1\n",
    "    else:\n",
    "        val = 0\n",
    "    return val\n",
    "dataset['Rent_1a'] = dataset.apply(f, axis=1)"
   ]
  },
  {
   "cell_type": "code",
   "execution_count": 9,
   "metadata": {},
   "outputs": [],
   "source": [
    "# Here we ignore the first 3 (non-predictive features)\n",
    "X = dataset.iloc[:, 3:49]\n",
    "# y is a vector containing the information about the target\n",
    "y = dataset.iloc[:, 43:48].values"
   ]
  },
  {
   "cell_type": "code",
   "execution_count": 10,
   "metadata": {},
   "outputs": [],
   "source": [
    "column_trans = make_column_transformer(\n",
    "    (OneHotEncoder(), ['SETOR']),\n",
    "    remainder='passthrough')\n",
    "X = column_trans.fit_transform(X)"
   ]
  },
  {
   "cell_type": "code",
   "execution_count": 11,
   "metadata": {},
   "outputs": [],
   "source": [
    "#Xf = X[X[:,58]=='2019']\n",
    "Xa = X[X[:,58]!='2019']\n",
    "\n",
    "#yf = y[y[:,2]=='2019']\n",
    "ya = y[y[:,2]!='2019']"
   ]
  },
  {
   "cell_type": "code",
   "execution_count": 12,
   "metadata": {},
   "outputs": [],
   "source": [
    "# Creation of training and test sets\n",
    "from sklearn.model_selection import train_test_split\n",
    "X_train_c, X_test_c, y_train_c, y_test_c = train_test_split(Xa, ya, test_size = 0.5, random_state=1)"
   ]
  },
  {
   "cell_type": "code",
   "execution_count": 13,
   "metadata": {},
   "outputs": [],
   "source": [
    "y_train = y_train_c[:,0].astype(str).astype('int64')\n",
    "y_test = y_test_c[:,0].astype(str).astype('int64')\n",
    "#yf = yf[:,0].astype(str).astype(int)\n",
    "X_train = X_train_c[:,:56]\n",
    "X_test = X_test_c[:,:56]\n",
    "#Xf = Xf[:,:56]"
   ]
  },
  {
   "cell_type": "code",
   "execution_count": 14,
   "metadata": {},
   "outputs": [],
   "source": [
    "# Preprocessing: feature normalization\n",
    "#mean = X_train.mean(axis=0)\n",
    "#X_train -= mean\n",
    "#std = X_train.std(axis=0)\n",
    "#X_train /= std\n",
    "\n",
    "#X_test -= mean\n",
    "#X_test /= std\n",
    "\n",
    "\n",
    "# Preprocessing: feature Standardization\n",
    "from sklearn.preprocessing import StandardScaler\n",
    "sc = StandardScaler()\n",
    "# Standardization only uses the information on the training set!!!\n",
    "X_train = sc.fit_transform(X_train)\n",
    "X_test = sc.transform(X_test)\n",
    "#Xf = sc.transform(Xf)"
   ]
  },
  {
   "cell_type": "code",
   "execution_count": 15,
   "metadata": {
    "scrolled": true
   },
   "outputs": [],
   "source": [
    "# Creation of the model\n",
    "\n",
    "def build_model():\n",
    "    # Creation of an empty model\n",
    "    model = Sequential()\n",
    "\n",
    "    # Adding the input layer and the first hidden layer\n",
    "    model.add(Dense(units = 5, kernel_initializer = 'uniform', activation = 'relu', input_dim = 56))\n",
    "\n",
    "    # Adding the second hidden layer\n",
    "    model.add(Dense(units = 50, kernel_initializer = 'uniform', activation = 'relu'))\n",
    "    \n",
    "    # Adding the second hidden layer\n",
    "    model.add(Dense(units = 5, kernel_initializer = 'uniform', activation = 'sigmoid'))\n",
    "    \n",
    "    # Adding the output layer\n",
    "    model.add(Dense(units = 1, kernel_initializer = 'uniform', activation = 'sigmoid'))\n",
    "\n",
    "    model.compile(optimizer = 'Adam', loss = 'binary_crossentropy', metrics = ['accuracy'])\n",
    "    return model"
   ]
  },
  {
   "cell_type": "code",
   "execution_count": 16,
   "metadata": {
    "scrolled": true
   },
   "outputs": [
    {
     "name": "stdout",
     "output_type": "stream",
     "text": [
      "Processing fold # 0\n",
      "Train on 719 samples, validate on 179 samples\n",
      "Epoch 1/15\n",
      "719/719 [==============================] - 1s 1ms/step - loss: 0.6934 - accuracy: 0.4784 - val_loss: 0.6933 - val_accuracy: 0.4804\n",
      "Epoch 2/15\n",
      "719/719 [==============================] - 0s 78us/step - loss: 0.6931 - accuracy: 0.5090 - val_loss: 0.6933 - val_accuracy: 0.4804\n",
      "Epoch 3/15\n",
      "719/719 [==============================] - 0s 78us/step - loss: 0.6930 - accuracy: 0.5090 - val_loss: 0.6934 - val_accuracy: 0.4804\n",
      "Epoch 4/15\n",
      "719/719 [==============================] - 0s 78us/step - loss: 0.6928 - accuracy: 0.5104 - val_loss: 0.6934 - val_accuracy: 0.4804\n",
      "Epoch 5/15\n",
      "719/719 [==============================] - 0s 100us/step - loss: 0.6923 - accuracy: 0.5229 - val_loss: 0.6932 - val_accuracy: 0.4916\n",
      "Epoch 6/15\n",
      "719/719 [==============================] - 0s 89us/step - loss: 0.6914 - accuracy: 0.5522 - val_loss: 0.6926 - val_accuracy: 0.5140\n",
      "Epoch 7/15\n",
      "719/719 [==============================] - 0s 67us/step - loss: 0.6901 - accuracy: 0.5828 - val_loss: 0.6915 - val_accuracy: 0.5419\n",
      "Epoch 8/15\n",
      "719/719 [==============================] - 0s 67us/step - loss: 0.6883 - accuracy: 0.6106 - val_loss: 0.6901 - val_accuracy: 0.5531\n",
      "Epoch 9/15\n",
      "719/719 [==============================] - 0s 67us/step - loss: 0.6860 - accuracy: 0.6356 - val_loss: 0.6889 - val_accuracy: 0.5866\n",
      "Epoch 10/15\n",
      "719/719 [==============================] - 0s 78us/step - loss: 0.6834 - accuracy: 0.6467 - val_loss: 0.6876 - val_accuracy: 0.5866\n",
      "Epoch 11/15\n",
      "719/719 [==============================] - 0s 78us/step - loss: 0.6793 - accuracy: 0.6537 - val_loss: 0.6861 - val_accuracy: 0.5531\n",
      "Epoch 12/15\n",
      "719/719 [==============================] - 0s 100us/step - loss: 0.6746 - accuracy: 0.6718 - val_loss: 0.6848 - val_accuracy: 0.5754\n",
      "Epoch 13/15\n",
      "719/719 [==============================] - 0s 89us/step - loss: 0.6695 - accuracy: 0.6704 - val_loss: 0.6839 - val_accuracy: 0.5587\n",
      "Epoch 14/15\n",
      "719/719 [==============================] - 0s 100us/step - loss: 0.6627 - accuracy: 0.6801 - val_loss: 0.6820 - val_accuracy: 0.5754\n",
      "Epoch 15/15\n",
      "719/719 [==============================] - 0s 100us/step - loss: 0.6554 - accuracy: 0.6871 - val_loss: 0.6803 - val_accuracy: 0.5810\n",
      "Processing fold # 1\n",
      "Train on 719 samples, validate on 179 samples\n",
      "Epoch 1/15\n",
      "719/719 [==============================] - 1s 1ms/step - loss: 0.6933 - accuracy: 0.4924 - val_loss: 0.6932 - val_accuracy: 0.4916\n",
      "Epoch 2/15\n",
      "719/719 [==============================] - 0s 89us/step - loss: 0.6932 - accuracy: 0.4979 - val_loss: 0.6931 - val_accuracy: 0.4916\n",
      "Epoch 3/15\n",
      "719/719 [==============================] - 0s 100us/step - loss: 0.6931 - accuracy: 0.4840 - val_loss: 0.6931 - val_accuracy: 0.5140\n",
      "Epoch 4/15\n",
      "719/719 [==============================] - 0s 122us/step - loss: 0.6929 - accuracy: 0.5202 - val_loss: 0.6929 - val_accuracy: 0.5251\n",
      "Epoch 5/15\n",
      "719/719 [==============================] - 0s 78us/step - loss: 0.6923 - accuracy: 0.5563 - val_loss: 0.6924 - val_accuracy: 0.5531\n",
      "Epoch 6/15\n",
      "719/719 [==============================] - 0s 78us/step - loss: 0.6908 - accuracy: 0.6120 - val_loss: 0.6914 - val_accuracy: 0.5363\n",
      "Epoch 7/15\n",
      "719/719 [==============================] - 0s 100us/step - loss: 0.6887 - accuracy: 0.6245 - val_loss: 0.6904 - val_accuracy: 0.5922\n",
      "Epoch 8/15\n",
      "719/719 [==============================] - 0s 111us/step - loss: 0.6866 - accuracy: 0.6231 - val_loss: 0.6889 - val_accuracy: 0.5866\n",
      "Epoch 9/15\n",
      "719/719 [==============================] - 0s 78us/step - loss: 0.6837 - accuracy: 0.6314 - val_loss: 0.6870 - val_accuracy: 0.5866\n",
      "Epoch 10/15\n",
      "719/719 [==============================] - 0s 100us/step - loss: 0.6801 - accuracy: 0.6342 - val_loss: 0.6846 - val_accuracy: 0.5978\n",
      "Epoch 11/15\n",
      "719/719 [==============================] - 0s 89us/step - loss: 0.6756 - accuracy: 0.6453 - val_loss: 0.6818 - val_accuracy: 0.5922\n",
      "Epoch 12/15\n",
      "719/719 [==============================] - 0s 89us/step - loss: 0.6706 - accuracy: 0.6481 - val_loss: 0.6787 - val_accuracy: 0.5810\n",
      "Epoch 13/15\n",
      "719/719 [==============================] - 0s 67us/step - loss: 0.6647 - accuracy: 0.6551 - val_loss: 0.6749 - val_accuracy: 0.5754\n",
      "Epoch 14/15\n",
      "719/719 [==============================] - 0s 89us/step - loss: 0.6580 - accuracy: 0.6745 - val_loss: 0.6729 - val_accuracy: 0.5866\n",
      "Epoch 15/15\n",
      "719/719 [==============================] - 0s 81us/step - loss: 0.6517 - accuracy: 0.6732 - val_loss: 0.6704 - val_accuracy: 0.5866\n",
      "Processing fold # 2\n",
      "Train on 719 samples, validate on 179 samples\n",
      "Epoch 1/15\n",
      "719/719 [==============================] - 1s 1ms/step - loss: 0.6937 - accuracy: 0.4951 - val_loss: 0.6931 - val_accuracy: 0.5028\n",
      "Epoch 2/15\n",
      "719/719 [==============================] - 0s 156us/step - loss: 0.6932 - accuracy: 0.4951 - val_loss: 0.6931 - val_accuracy: 0.5028\n",
      "Epoch 3/15\n",
      "719/719 [==============================] - 0s 111us/step - loss: 0.6931 - accuracy: 0.4951 - val_loss: 0.6930 - val_accuracy: 0.5028\n",
      "Epoch 4/15\n",
      "719/719 [==============================] - 0s 100us/step - loss: 0.6926 - accuracy: 0.5271 - val_loss: 0.6927 - val_accuracy: 0.5363\n",
      "Epoch 5/15\n",
      "719/719 [==============================] - 0s 78us/step - loss: 0.6915 - accuracy: 0.6147 - val_loss: 0.6923 - val_accuracy: 0.5531\n",
      "Epoch 6/15\n",
      "719/719 [==============================] - 0s 111us/step - loss: 0.6892 - accuracy: 0.6314 - val_loss: 0.6921 - val_accuracy: 0.4916\n",
      "Epoch 7/15\n",
      "719/719 [==============================] - 0s 100us/step - loss: 0.6867 - accuracy: 0.6328 - val_loss: 0.6914 - val_accuracy: 0.5307\n",
      "Epoch 8/15\n",
      "719/719 [==============================] - 0s 78us/step - loss: 0.6829 - accuracy: 0.6356 - val_loss: 0.6907 - val_accuracy: 0.5419\n",
      "Epoch 9/15\n",
      "719/719 [==============================] - 0s 78us/step - loss: 0.6776 - accuracy: 0.6523 - val_loss: 0.6902 - val_accuracy: 0.5363\n",
      "Epoch 10/15\n",
      "719/719 [==============================] - 0s 78us/step - loss: 0.6718 - accuracy: 0.6537 - val_loss: 0.6906 - val_accuracy: 0.5475\n",
      "Epoch 11/15\n",
      "719/719 [==============================] - 0s 78us/step - loss: 0.6644 - accuracy: 0.6662 - val_loss: 0.6900 - val_accuracy: 0.5531\n",
      "Epoch 12/15\n",
      "719/719 [==============================] - 0s 89us/step - loss: 0.6574 - accuracy: 0.6732 - val_loss: 0.6901 - val_accuracy: 0.5475\n",
      "Epoch 13/15\n",
      "719/719 [==============================] - 0s 78us/step - loss: 0.6505 - accuracy: 0.6843 - val_loss: 0.6887 - val_accuracy: 0.5475\n",
      "Epoch 14/15\n",
      "719/719 [==============================] - 0s 78us/step - loss: 0.6428 - accuracy: 0.6940 - val_loss: 0.6883 - val_accuracy: 0.5587\n",
      "Epoch 15/15\n",
      "719/719 [==============================] - 0s 78us/step - loss: 0.6355 - accuracy: 0.6940 - val_loss: 0.6912 - val_accuracy: 0.5363\n",
      "Processing fold # 3\n",
      "Train on 719 samples, validate on 179 samples\n",
      "Epoch 1/15\n",
      "719/719 [==============================] - 1s 1ms/step - loss: 0.6933 - accuracy: 0.4993 - val_loss: 0.6932 - val_accuracy: 0.4860\n",
      "Epoch 2/15\n",
      "719/719 [==============================] - 0s 89us/step - loss: 0.6933 - accuracy: 0.4645 - val_loss: 0.6931 - val_accuracy: 0.5140\n",
      "Epoch 3/15\n",
      "719/719 [==============================] - 0s 122us/step - loss: 0.6932 - accuracy: 0.4896 - val_loss: 0.6931 - val_accuracy: 0.4860\n",
      "Epoch 4/15\n",
      "719/719 [==============================] - 0s 111us/step - loss: 0.6931 - accuracy: 0.4924 - val_loss: 0.6929 - val_accuracy: 0.6034\n",
      "Epoch 5/15\n",
      "719/719 [==============================] - 0s 89us/step - loss: 0.6927 - accuracy: 0.5883 - val_loss: 0.6924 - val_accuracy: 0.5642\n",
      "Epoch 6/15\n",
      "719/719 [==============================] - 0s 78us/step - loss: 0.6917 - accuracy: 0.6064 - val_loss: 0.6912 - val_accuracy: 0.5922\n",
      "Epoch 7/15\n",
      "719/719 [==============================] - 0s 89us/step - loss: 0.6898 - accuracy: 0.5981 - val_loss: 0.6887 - val_accuracy: 0.6145\n",
      "Epoch 8/15\n",
      "719/719 [==============================] - 0s 89us/step - loss: 0.6865 - accuracy: 0.5953 - val_loss: 0.6851 - val_accuracy: 0.6313\n",
      "Epoch 9/15\n",
      "719/719 [==============================] - 0s 89us/step - loss: 0.6823 - accuracy: 0.6203 - val_loss: 0.6819 - val_accuracy: 0.6201\n",
      "Epoch 10/15\n",
      "719/719 [==============================] - 0s 89us/step - loss: 0.6776 - accuracy: 0.6314 - val_loss: 0.6792 - val_accuracy: 0.5754\n",
      "Epoch 11/15\n",
      "719/719 [==============================] - 0s 89us/step - loss: 0.6731 - accuracy: 0.6342 - val_loss: 0.6757 - val_accuracy: 0.5866\n",
      "Epoch 12/15\n",
      "719/719 [==============================] - 0s 89us/step - loss: 0.6674 - accuracy: 0.6481 - val_loss: 0.6744 - val_accuracy: 0.5810\n",
      "Epoch 13/15\n",
      "719/719 [==============================] - 0s 89us/step - loss: 0.6622 - accuracy: 0.6509 - val_loss: 0.6718 - val_accuracy: 0.5754\n",
      "Epoch 14/15\n",
      "719/719 [==============================] - 0s 89us/step - loss: 0.6561 - accuracy: 0.6662 - val_loss: 0.6708 - val_accuracy: 0.5922\n",
      "Epoch 15/15\n",
      "719/719 [==============================] - 0s 122us/step - loss: 0.6502 - accuracy: 0.6745 - val_loss: 0.6677 - val_accuracy: 0.5978\n",
      "Processing fold # 4\n",
      "Train on 719 samples, validate on 179 samples\n",
      "Epoch 1/15\n",
      "719/719 [==============================] - 1s 2ms/step - loss: 0.6935 - accuracy: 0.4993 - val_loss: 0.6926 - val_accuracy: 0.5196\n",
      "Epoch 2/15\n",
      "719/719 [==============================] - 0s 122us/step - loss: 0.6933 - accuracy: 0.4993 - val_loss: 0.6926 - val_accuracy: 0.5196\n",
      "Epoch 3/15\n",
      "719/719 [==============================] - 0s 122us/step - loss: 0.6933 - accuracy: 0.4993 - val_loss: 0.6928 - val_accuracy: 0.5196\n",
      "Epoch 4/15\n",
      "719/719 [==============================] - 0s 134us/step - loss: 0.6931 - accuracy: 0.4993 - val_loss: 0.6927 - val_accuracy: 0.5196\n",
      "Epoch 5/15\n",
      "719/719 [==============================] - 0s 134us/step - loss: 0.6929 - accuracy: 0.5118 - val_loss: 0.6926 - val_accuracy: 0.5363\n",
      "Epoch 6/15\n",
      "719/719 [==============================] - 0s 122us/step - loss: 0.6922 - accuracy: 0.5452 - val_loss: 0.6922 - val_accuracy: 0.5642\n",
      "Epoch 7/15\n",
      "719/719 [==============================] - 0s 122us/step - loss: 0.6910 - accuracy: 0.5911 - val_loss: 0.6917 - val_accuracy: 0.5698\n",
      "Epoch 8/15\n",
      "719/719 [==============================] - 0s 111us/step - loss: 0.6893 - accuracy: 0.6036 - val_loss: 0.6906 - val_accuracy: 0.5698\n",
      "Epoch 9/15\n",
      "719/719 [==============================] - 0s 122us/step - loss: 0.6865 - accuracy: 0.6259 - val_loss: 0.6894 - val_accuracy: 0.5587\n",
      "Epoch 10/15\n",
      "719/719 [==============================] - 0s 122us/step - loss: 0.6826 - accuracy: 0.6384 - val_loss: 0.6867 - val_accuracy: 0.5698\n",
      "Epoch 11/15\n",
      "719/719 [==============================] - 0s 89us/step - loss: 0.6776 - accuracy: 0.6398 - val_loss: 0.6845 - val_accuracy: 0.5642\n",
      "Epoch 12/15\n",
      "719/719 [==============================] - 0s 100us/step - loss: 0.6719 - accuracy: 0.6481 - val_loss: 0.6815 - val_accuracy: 0.5922\n",
      "Epoch 13/15\n",
      "719/719 [==============================] - 0s 100us/step - loss: 0.6655 - accuracy: 0.6551 - val_loss: 0.6800 - val_accuracy: 0.5866\n",
      "Epoch 14/15\n",
      "719/719 [==============================] - 0s 78us/step - loss: 0.6595 - accuracy: 0.6732 - val_loss: 0.6790 - val_accuracy: 0.5978\n",
      "Epoch 15/15\n",
      "719/719 [==============================] - 0s 89us/step - loss: 0.6536 - accuracy: 0.6759 - val_loss: 0.6778 - val_accuracy: 0.6089\n",
      "all_scores : [0.5810055732727051, 0.5865921974182129, 0.5363128781318665, 0.5977653861045837, 0.6089385747909546]\n",
      "mean all scores : 0.5821229219436646\n"
     ]
    }
   ],
   "source": [
    "# 5-fold Cross Validation \n",
    "all_acc_histories = []\n",
    "all_val_acc_histories = []\n",
    "all_loss_histories = []\n",
    "all_val_loss_histories = []\n",
    "\n",
    "k = 5\n",
    "num_val_samples = len(X_train) // k\n",
    "num_epochs = 15\n",
    "all_scores = []\n",
    "\n",
    "\n",
    "for i in range(k):\n",
    "    print(f'Processing fold # {i}')\n",
    "    val_data = X_train[i * num_val_samples: (i+1) * num_val_samples]\n",
    "    val_targets = y_train[i * num_val_samples: (i+1) * num_val_samples]\n",
    "    \n",
    "    partial_train_data = np.concatenate(\n",
    "                            [X_train[:i * num_val_samples],\n",
    "                            X_train[(i+1) * num_val_samples:]],\n",
    "                            axis=0)\n",
    "    partial_train_targets = np.concatenate(\n",
    "                            [y_train[:i * num_val_samples],\n",
    "                            y_train[(i+1)*num_val_samples:]],\n",
    "                            axis=0)\n",
    "    model = build_model()\n",
    "    \n",
    "    history = model.fit(partial_train_data,\n",
    "              partial_train_targets,\n",
    "              validation_data=(val_data, val_targets),\n",
    "              epochs=num_epochs,\n",
    "                       )\n",
    "    val_mse, val_acc = model.evaluate(val_data, val_targets, verbose=0)\n",
    "    all_scores.append(val_acc)\n",
    "    \n",
    "    acc_history = history.history['accuracy']\n",
    "    val_acc_history = history.history['val_accuracy']\n",
    "    loss_history = history.history['loss']\n",
    "    val_loss_history = history.history['val_loss']\n",
    "    \n",
    "    all_acc_histories.append(acc_history)\n",
    "    all_val_acc_histories.append(val_acc_history)\n",
    "    all_loss_histories.append(loss_history)\n",
    "    all_val_loss_histories.append(val_loss_history)\n",
    "\n",
    "\t\n",
    "# Here we print the scores\n",
    "print(f'all_scores : {all_scores}')\n",
    "print(f'mean all scores : {np.mean(all_scores)}')"
   ]
  },
  {
   "cell_type": "code",
   "execution_count": 17,
   "metadata": {},
   "outputs": [
    {
     "data": {
      "image/png": "[encoded data removed]",
      "text/plain": [
       "<Figure size 432x288 with 1 Axes>"
      ]
     },
     "metadata": {
      "needs_background": "light"
     },
     "output_type": "display_data"
    },
    {
     "data": {
      "image/png": "[encoded data removed]",
      "text/plain": [
       "<Figure size 432x288 with 1 Axes>"
      ]
     },
     "metadata": {
      "needs_background": "light"
     },
     "output_type": "display_data"
    }
   ],
   "source": [
    "# Here we compute the history of successive mean K-fold validation scores\n",
    "average_acc_history = [np.mean([x[i] for x in all_acc_histories]) for i in range(num_epochs)]\n",
    "average_val_acc_history = [np.mean([x[i] for x in all_val_acc_histories]) for i in range(num_epochs)]\n",
    "average_loss_history = [np.mean([x[i] for x in all_loss_histories]) for i in range(num_epochs)]\n",
    "average_val_loss_history = [np.mean([x[i] for x in all_val_loss_histories]) for i in range(num_epochs)]\n",
    "\n",
    "import matplotlib.pyplot as plt\n",
    "plt.plot(range(1, len(average_acc_history) + 1), average_acc_history)\n",
    "plt.plot(range(1, len(average_val_acc_history) + 1), average_val_acc_history)\n",
    "plt.xlabel('Epochs')\n",
    "plt.ylabel('ACC')\n",
    "plt.show()\n",
    "\n",
    "import matplotlib.pyplot as plt\n",
    "plt.plot(range(1, len(average_loss_history) + 1), average_loss_history)\n",
    "plt.plot(range(1, len(average_val_loss_history) + 1), average_val_loss_history)\n",
    "plt.xlabel('Epochs')\n",
    "plt.ylabel('Loss')\n",
    "plt.show()"
   ]
  },
  {
   "cell_type": "code",
   "execution_count": 18,
   "metadata": {},
   "outputs": [
    {
     "name": "stdout",
     "output_type": "stream",
     "text": [
      "              precision    recall  f1-score   support\n",
      "\n",
      "  Do Nothing       0.58      0.54      0.56       452\n",
      "         Buy       0.57      0.61      0.59       446\n",
      "\n",
      "    accuracy                           0.57       898\n",
      "   macro avg       0.57      0.57      0.57       898\n",
      "weighted avg       0.57      0.57      0.57       898\n",
      "\n"
     ]
    }
   ],
   "source": [
    "# Predicting the Test set results\n",
    "y_pred = model.predict(X_test)\n",
    "y_pred = (y_pred > 0.50).astype(int)\n",
    "\n",
    "# Making the Confusion Matrix\n",
    "from sklearn.metrics import confusion_matrix\n",
    "cm = confusion_matrix(y_test, y_pred)\n",
    "\n",
    "# Print Statistics from Confusion Matrix\n",
    "from sklearn.metrics import classification_report\n",
    "target_names = ['Do Nothing','Buy']\n",
    "print(classification_report(y_test, y_pred, target_names=target_names))"
   ]
  },
  {
   "cell_type": "code",
   "execution_count": 19,
   "metadata": {},
   "outputs": [
    {
     "data": {
      "text/plain": [
       "{0: 419, 1: 479}"
      ]
     },
     "execution_count": 19,
     "metadata": {},
     "output_type": "execute_result"
    }
   ],
   "source": [
    "unique, counts = np.unique(y_pred, return_counts=True)\n",
    "dict(zip(unique, counts))"
   ]
  },
  {
   "cell_type": "code",
   "execution_count": 20,
   "metadata": {},
   "outputs": [
    {
     "data": {
      "text/plain": [
       "19.87774665588597"
      ]
     },
     "execution_count": 20,
     "metadata": {},
     "output_type": "execute_result"
    }
   ],
   "source": [
    "sum(y_test_c[:,4].astype(str).astype(float) * y_pred[:,0].astype(int))/(dict(zip(unique, counts))[1])"
   ]
  },
  {
   "cell_type": "code",
   "execution_count": 21,
   "metadata": {},
   "outputs": [
    {
     "data": {
      "text/plain": [
       "13.344528607248854"
      ]
     },
     "execution_count": 21,
     "metadata": {},
     "output_type": "execute_result"
    }
   ],
   "source": [
    "sum(y_test_c[:,4].astype(str).astype(float))/len(y_test)"
   ]
  },
  {
   "cell_type": "code",
   "execution_count": null,
   "metadata": {},
   "outputs": [],
   "source": []
  }
 ],
 "metadata": {
  "kernelspec": {
   "display_name": "Python 3.9.0 64-bit",
   "name": "python390jvsc74a57bd0727915aaf93b8fd66db277de47a9e53b4b1e8995bbde1dbbda6fae2300a5a514"
  },
  "language_info": {
   "name": "python",
   "version": ""
  }
 },
 "nbformat": 4,
 "nbformat_minor": 4
}